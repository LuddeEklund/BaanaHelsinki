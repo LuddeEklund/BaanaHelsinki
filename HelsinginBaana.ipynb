{
 "cells": [
  {
   "cell_type": "code",
   "execution_count": null,
   "metadata": {},
   "outputs": [],
   "source": [
    "import pandas as pd\n",
    "import numpy as np\n",
    "\n",
    "#source: https://hri.fi/data/dataset/helsingin-pyorailijamaarat/resource/ffc0ba24-08f9-452e-80db-99850ebc7962\n",
    "df = pd.read_csv('Helsingin_pyorailijamaarat.csv', sep=';')\n",
    "df.head()"
   ]
  },
  {
   "cell_type": "code",
   "execution_count": null,
   "metadata": {},
   "outputs": [],
   "source": [
    "print(list(df))"
   ]
  },
  {
   "cell_type": "code",
   "execution_count": null,
   "metadata": {},
   "outputs": [],
   "source": [
    "def filter_columns(df, keep):\n",
    "\t\"\"\"Filter Pandas table df, keeping only columns in keep\"\"\"\n",
    "\tallColumns = list(df)\n",
    "\tfor col in keep:\n",
    "\t\tallColumns.remove(col)\n",
    "\n",
    "\treturn df.drop(columns=allColumns)\n",
    "\n",
    "keep_columns = ['P�iv�m��r�', 'Baana']\n",
    "dfBaana = filter_columns(df, keep_columns)\n",
    "dfBaana.head()"
   ]
  },
  {
   "cell_type": "code",
   "execution_count": null,
   "metadata": {},
   "outputs": [],
   "source": [
    "dfBaana.columns=['Date', 'Baana']\n",
    "dfBaana.tail()"
   ]
  },
  {
   "cell_type": "code",
   "execution_count": null,
   "metadata": {},
   "outputs": [],
   "source": [
    "#values for the whole year of 2017\n",
    "for a in range (0, len(dfBaana)):\n",
    "    if (dfBaana['Date'].iloc[a] == \"su 1 tammi 2017 00:00\"): \n",
    "        print(a)\n",
    "        break"
   ]
  },
  {
   "cell_type": "code",
   "execution_count": null,
   "metadata": {},
   "outputs": [],
   "source": [
    "for b in range (a, len(dfBaana)):\n",
    "    if (dfBaana['Date'].iloc[b] == \"ma 1 tammi 2018 00:00\"): \n",
    "        print(b)\n",
    "        break"
   ]
  },
  {
   "cell_type": "code",
   "execution_count": null,
   "metadata": {},
   "outputs": [],
   "source": [
    "dfBaana = dfBaana[a:b]\n",
    "print(dfBaana.shape)\n",
    "dfBaana.head()"
   ]
  },
  {
   "cell_type": "code",
   "execution_count": null,
   "metadata": {},
   "outputs": [],
   "source": [
    "dfBaana = dfBaana.reset_index(drop=True)\n",
    "dfBaana.tail()"
   ]
  },
  {
   "cell_type": "code",
   "execution_count": null,
   "metadata": {},
   "outputs": [],
   "source": [
    "data_time = pd.date_range('2017-01-01', periods=8760, freq='H')\n",
    "data_time"
   ]
  },
  {
   "cell_type": "code",
   "execution_count": null,
   "metadata": {},
   "outputs": [],
   "source": [
    "dfBaana = dfBaana.assign(stTime=data_time.values)\n",
    "print(dfBaana.shape)\n",
    "dfBaana.tail()\n"
   ]
  },
  {
   "cell_type": "code",
   "execution_count": null,
   "metadata": {},
   "outputs": [],
   "source": [
    "dfBaana = dfBaana.drop(columns = 'Date')\n",
    "dfBaana = dfBaana.set_index(dfBaana.stTime)\n",
    "dfBaana.head(3)\n"
   ]
  },
  {
   "cell_type": "code",
   "execution_count": null,
   "metadata": {},
   "outputs": [],
   "source": [
    "dfBaana = dfBaana.drop(columns = 'stTime')\n",
    "dfBaana.head(3)"
   ]
  },
  {
   "cell_type": "code",
   "execution_count": null,
   "metadata": {},
   "outputs": [],
   "source": [
    "#want to look at average number of bikers as a function of the time of day\n",
    "by_hour = dfBaana.groupby(dfBaana.index.hour).mean()\n",
    "by_hour"
   ]
  },
  {
   "cell_type": "code",
   "execution_count": null,
   "metadata": {},
   "outputs": [],
   "source": [
    "#want to look at number bikers every month\n",
    "by_month = dfBaana.groupby(dfBaana.index.month).sum()\n",
    "by_month"
   ]
  },
  {
   "cell_type": "code",
   "execution_count": null,
   "metadata": {},
   "outputs": [],
   "source": [
    "#another alternative, same result\n",
    "by_month2 = dfBaana.resample('M').sum()\n",
    "by_month2"
   ]
  },
  {
   "cell_type": "code",
   "execution_count": null,
   "metadata": {},
   "outputs": [],
   "source": [
    "#We'll add day of week, and a boolean for is_weekend.\n",
    "dfBaana[\"weekday\"] = dfBaana.index.weekday\n",
    "dfBaana['is_weekend'] = dfBaana.weekday.isin([5,6])*1\n",
    "print(dfBaana.shape)\n",
    "dfBaana.tail()"
   ]
  },
  {
   "cell_type": "code",
   "execution_count": null,
   "metadata": {},
   "outputs": [],
   "source": [
    "by_weekday = dfBaana.groupby(dfBaana.weekday).mean()\n",
    "print(by_weekday.shape)\n",
    "by_weekday"
   ]
  },
  {
   "cell_type": "code",
   "execution_count": null,
   "metadata": {},
   "outputs": [],
   "source": [
    "by_weekend = dfBaana.groupby(dfBaana.is_weekend).mean()\n",
    "print(by_weekend.shape)\n",
    "by_weekend"
   ]
  },
  {
   "cell_type": "code",
   "execution_count": null,
   "metadata": {},
   "outputs": [],
   "source": []
  }
 ],
 "metadata": {
  "kernelspec": {
   "display_name": "Python 3",
   "language": "python",
   "name": "python3"
  },
  "language_info": {
   "codemirror_mode": {
    "name": "ipython",
    "version": 3
   },
   "file_extension": ".py",
   "mimetype": "text/x-python",
   "name": "python",
   "nbconvert_exporter": "python",
   "pygments_lexer": "ipython3",
   "version": "3.7.0"
  }
 },
 "nbformat": 4,
 "nbformat_minor": 2
}
